{
 "cells": [
  {
   "cell_type": "code",
   "execution_count": 2,
   "metadata": {},
   "outputs": [
    {
     "ename": "ModuleNotFoundError",
     "evalue": "No module named 'Hierarchy'",
     "output_type": "error",
     "traceback": [
      "\u001b[1;31m---------------------------------------------------------------------------\u001b[0m",
      "\u001b[1;31mModuleNotFoundError\u001b[0m                       Traceback (most recent call last)",
      "\u001b[1;32m<ipython-input-2-591143e585fb>\u001b[0m in \u001b[0;36m<module>\u001b[1;34m\u001b[0m\n\u001b[0;32m      6\u001b[0m \u001b[0msys\u001b[0m\u001b[1;33m.\u001b[0m\u001b[0mpath\u001b[0m\u001b[1;33m.\u001b[0m\u001b[0mappend\u001b[0m\u001b[1;33m(\u001b[0m\u001b[1;34m'../code/'\u001b[0m\u001b[1;33m)\u001b[0m\u001b[1;33m\u001b[0m\u001b[1;33m\u001b[0m\u001b[0m\n\u001b[0;32m      7\u001b[0m \u001b[1;33m\u001b[0m\u001b[0m\n\u001b[1;32m----> 8\u001b[1;33m \u001b[1;32mfrom\u001b[0m \u001b[0mTester\u001b[0m \u001b[1;32mimport\u001b[0m \u001b[0mTester\u001b[0m\u001b[1;33m\u001b[0m\u001b[1;33m\u001b[0m\u001b[0m\n\u001b[0m",
      "\u001b[1;32m~\\Desktop\\Danny Research Work\\Address_Generator\\code\\Tester.py\u001b[0m in \u001b[0;36m<module>\u001b[1;34m\u001b[0m\n\u001b[0;32m      4\u001b[0m \u001b[1;32mimport\u001b[0m \u001b[0mrandom\u001b[0m\u001b[1;33m\u001b[0m\u001b[1;33m\u001b[0m\u001b[0m\n\u001b[0;32m      5\u001b[0m \u001b[1;33m\u001b[0m\u001b[0m\n\u001b[1;32m----> 6\u001b[1;33m \u001b[1;32mfrom\u001b[0m \u001b[0mSW\u001b[0m\u001b[1;33m.\u001b[0m\u001b[0mSimulator\u001b[0m \u001b[1;32mimport\u001b[0m \u001b[0mSimulator\u001b[0m\u001b[1;33m\u001b[0m\u001b[1;33m\u001b[0m\u001b[0m\n\u001b[0m\u001b[0;32m      7\u001b[0m \u001b[1;32mfrom\u001b[0m \u001b[0mHW\u001b[0m\u001b[1;33m.\u001b[0m\u001b[0mManager\u001b[0m \u001b[1;32mimport\u001b[0m \u001b[0mController_Manager\u001b[0m\u001b[1;33m\u001b[0m\u001b[1;33m\u001b[0m\u001b[0m\n\u001b[0;32m      8\u001b[0m \u001b[1;32mfrom\u001b[0m \u001b[0mAccess_Analyzer\u001b[0m \u001b[1;32mimport\u001b[0m \u001b[1;33m*\u001b[0m\u001b[1;33m\u001b[0m\u001b[1;33m\u001b[0m\u001b[0m\n",
      "\u001b[1;32m~\\Desktop\\Danny Research Work\\Address_Generator\\code\\SW\\Simulator.py\u001b[0m in \u001b[0;36m<module>\u001b[1;34m\u001b[0m\n\u001b[0;32m      7\u001b[0m \u001b[0msys\u001b[0m\u001b[1;33m.\u001b[0m\u001b[0mpath\u001b[0m\u001b[1;33m.\u001b[0m\u001b[0mappend\u001b[0m\u001b[1;33m(\u001b[0m\u001b[1;34m'../'\u001b[0m\u001b[1;33m)\u001b[0m\u001b[1;33m\u001b[0m\u001b[1;33m\u001b[0m\u001b[0m\n\u001b[0;32m      8\u001b[0m \u001b[1;33m\u001b[0m\u001b[0m\n\u001b[1;32m----> 9\u001b[1;33m \u001b[1;32mfrom\u001b[0m \u001b[0mHierarchy\u001b[0m \u001b[1;32mimport\u001b[0m \u001b[0mHierarchy\u001b[0m\u001b[1;33m\u001b[0m\u001b[1;33m\u001b[0m\u001b[0m\n\u001b[0m\u001b[0;32m     10\u001b[0m \u001b[1;32mfrom\u001b[0m \u001b[0mRegister_File\u001b[0m \u001b[1;32mimport\u001b[0m \u001b[0mRegister_File\u001b[0m\u001b[1;33m\u001b[0m\u001b[1;33m\u001b[0m\u001b[0m\n\u001b[0;32m     11\u001b[0m \u001b[1;32mfrom\u001b[0m \u001b[0mMemory\u001b[0m \u001b[1;32mimport\u001b[0m \u001b[0mInput_Memory\u001b[0m\u001b[1;33m\u001b[0m\u001b[1;33m\u001b[0m\u001b[0m\n",
      "\u001b[1;31mModuleNotFoundError\u001b[0m: No module named 'Hierarchy'"
     ]
    }
   ],
   "source": [
    "import numpy as np\n",
    "import copy\n",
    "import math\n",
    "import random\n",
    "import sys\n",
    "sys.path.append('../code/')\n",
    "\n",
    "from Tester import Tester"
   ]
  },
  {
   "cell_type": "code",
   "execution_count": null,
   "metadata": {},
   "outputs": [],
   "source": [
    "a = {\"hello\": 1, \"bye\": 2}\n",
    "b = set(a.keys())\n",
    "\"bye\" in b"
   ]
  },
  {
   "cell_type": "code",
   "execution_count": null,
   "metadata": {},
   "outputs": [],
   "source": [
    "tester = Tester()"
   ]
  },
  {
   "cell_type": "code",
   "execution_count": null,
   "metadata": {
    "scrolled": false
   },
   "outputs": [],
   "source": [
    "loop_tiling_lst =   [ \n",
    "                        [{\"channel\": 2}, {\"filter\": 2}, {\"weight\": 2}, {\"output\": 2}],\n",
    "                        [{\"channel\": 2}, {\"filter\": 2}, {\"weight\": 2}, {\"output\": 2}]\n",
    "                    ]\n",
    "\n",
    "# which data should write backs be enabled for\n",
    "write_backs = {\"input\", \"weight\", \"output\"}\n",
    "costs = [10, 5]\n",
    "expansion_factor = 0\n",
    "parallel_for_dims = [\"weight\", \"output\"]\n",
    "# parallel_for_dims = None\n",
    "prefetch_factor = 1\n",
    "\n",
    "tester.setup(loop_tiling_lst, costs, expansion_factor, write_backs, parallel_for_dims=parallel_for_dims, \n",
    "             prefetch_factor=prefetch_factor, debug=True)\n",
    "tester.test(full=False)"
   ]
  },
  {
   "cell_type": "code",
   "execution_count": null,
   "metadata": {
    "scrolled": false
   },
   "outputs": [],
   "source": [
    "loop_tiling_lst =   [ \n",
    "                        [{\"weight\": 2}, {\"filter\": 2}, {\"channel\": 2}, {\"output\": 2}],\n",
    "                        [{\"filter\": 4}, {\"output\": 4}, {\"channel\": 4}, {\"weight\": 4}]\n",
    "                    ]\n",
    "\n",
    "# which data should write backs be enabled for\n",
    "write_backs = {\"input\", \"weight\", \"output\"}\n",
    "costs = [10, 5]\n",
    "expansion_factor = 0\n",
    "parallel_for_dims = [\"filter\", \"channel\", \"output\"]\n",
    "prefetch_factor = 1\n",
    "\n",
    "tester.setup(loop_tiling_lst, costs, expansion_factor, write_backs, parallel_for_dims=parallel_for_dims, \n",
    "             prefetch_factor=prefetch_factor, debug=False)\n",
    "tester.test(full=False)"
   ]
  },
  {
   "cell_type": "code",
   "execution_count": null,
   "metadata": {
    "scrolled": false
   },
   "outputs": [],
   "source": [
    "loop_tiling_lst =   [\n",
    "                        [{\"filter\": 2},  {\"channel\": 2}, {\"weight\": 2},  {\"output\": 2}],\n",
    "                        [{\"filter\": 2},  {\"weight\": 2},  {\"output\": 2}, {\"channel\": 2}],\n",
    "                        [{\"channel\": 2}, {\"filter\": 2},  {\"output\": 2},  {\"weight\": 2}],\n",
    "                    ]\n",
    "\n",
    "parallel_for_dims = [\"channel\", \"output\"]\n",
    "# parallel_for_dims = None\n",
    "\n",
    "# which data should write backs be enabled for\n",
    "write_backs = {\"input\", \"weight\", \"output\"}\n",
    "costs = [10, 7, 3]\n",
    "expansion_factor = 0\n",
    "prefetch_factor = 1\n",
    "\n",
    "tester.setup(loop_tiling_lst, costs, expansion_factor, write_backs, parallel_for_dims=parallel_for_dims, \n",
    "             prefetch_factor=prefetch_factor, debug=True)\n",
    "tester.test(full=False)"
   ]
  },
  {
   "cell_type": "code",
   "execution_count": null,
   "metadata": {
    "scrolled": false
   },
   "outputs": [],
   "source": [
    "loop_tiling_lst =   [\n",
    "                        [{\"filter\": 2},  {\"channel\": 2}, {\"weight\": 2},  {\"output\": 2}],\n",
    "                        [{\"filter\": 2},  {\"weight\": 2},  {\"output\": 2}, {\"channel\": 2}],\n",
    "                        [{\"weight\": 2}, {\"filter\": 2},  {\"output\": 2},  {\"channel\": 2}],\n",
    "                        [{\"filter\": 2}, {\"output\": 2},  {\"channel\": 2},  {\"weight\": 2}]\n",
    "                    ]\n",
    "\n",
    "parallel_for_dims = [\"channel\", \"output\"]\n",
    "# parallel_for_dims = None\n",
    "\n",
    "# which data should write backs be enabled for\n",
    "write_backs = {\"output\"}\n",
    "costs = [10, 7, 3, 1]\n",
    "expansion_factor = 0\n",
    "prefetch_factor = 1\n",
    "\n",
    "tester.setup(loop_tiling_lst, costs, expansion_factor, write_backs, parallel_for_dims=parallel_for_dims, \n",
    "             prefetch_factor=prefetch_factor, debug=True)\n",
    "tester.test(full=False)"
   ]
  },
  {
   "cell_type": "code",
   "execution_count": null,
   "metadata": {
    "scrolled": false
   },
   "outputs": [],
   "source": [
    "# loop_tiling_lst =   [\n",
    "#                         [{\"filter\": 2},  {\"channel\": 2}, {\"weight\": 2},  {\"output\": 2}],\n",
    "#                         [{\"filter\": 2},  {\"weight\": 2},  {\"output\": 2}, {\"channel\": 2}],\n",
    "#                         [{\"weight\": 2}, {\"filter\": 2},  {\"output\": 2},  {\"channel\": 2}],\n",
    "#                         [{\"filter\": 2}, {\"output\": 2},  {\"channel\": 2},  {\"weight\": 2}]\n",
    "#                     ]\n",
    "\n",
    "# # parallel_for_dims = [\"channel\", \"output\"]\n",
    "# parallel_for_dims = None\n",
    "\n",
    "# # which data should write backs be enabled for\n",
    "# write_backs = {\"input\", \"output\"}\n",
    "# costs = [10, 7, 3, 1]\n",
    "# expansion_factor = 0\n",
    "# prefetch_factor = 1\n",
    "\n",
    "# tester.setup(loop_tiling_lst, costs, expansion_factor, write_backs, parallel_for_dims=parallel_for_dims, \n",
    "#              prefetch_factor=prefetch_factor, debug=True)\n",
    "# tester.test(full=False)"
   ]
  },
  {
   "cell_type": "code",
   "execution_count": null,
   "metadata": {
    "scrolled": false
   },
   "outputs": [],
   "source": [
    "loop_tiling_lst =   [\n",
    "                        [{\"filter\": 3},  {\"channel\": 2}, {\"weight\": 3},  {\"output\": 2}],\n",
    "                        [{\"filter\": 2},  {\"weight\": 4},  {\"channel\": 3}, {\"output\": 4}],\n",
    "                        [{\"channel\": 3}, {\"filter\": 4},  {\"output\": 2},  {\"weight\": 4}],\n",
    "                    ]\n",
    "\n",
    "parallel_for_dims = [\"channel\", \"output\"]\n",
    "# parallel_for_dims = None\n",
    "\n",
    "# which data should write backs be enabled for\n",
    "write_backs = {\"input\", \"weight\", \"output\"}\n",
    "costs = [10, 7, 3]\n",
    "expansion_factor = 0\n",
    "prefetch_factor = 1\n",
    "\n",
    "tester.setup(loop_tiling_lst, costs, expansion_factor, write_backs, parallel_for_dims=parallel_for_dims, \n",
    "             prefetch_factor=prefetch_factor, debug=False)\n",
    "tester.test(full=False)"
   ]
  }
 ],
 "metadata": {
  "kernelspec": {
   "display_name": "Python 3",
   "language": "python",
   "name": "python3"
  },
  "language_info": {
   "codemirror_mode": {
    "name": "ipython",
    "version": 3
   },
   "file_extension": ".py",
   "mimetype": "text/x-python",
   "name": "python",
   "nbconvert_exporter": "python",
   "pygments_lexer": "ipython3",
   "version": "3.7.6"
  }
 },
 "nbformat": 4,
 "nbformat_minor": 4
}
