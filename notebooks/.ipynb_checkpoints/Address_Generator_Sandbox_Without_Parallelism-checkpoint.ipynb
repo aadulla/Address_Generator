{
 "cells": [
  {
   "cell_type": "code",
   "execution_count": 1,
   "metadata": {},
   "outputs": [],
   "source": [
    "import numpy as np\n",
    "import copy\n",
    "import math\n",
    "import random\n",
    "import sys\n",
    "sys.path.append('../code/')\n",
    "\n",
    "from Tester import Tester"
   ]
  },
  {
   "cell_type": "code",
   "execution_count": 2,
   "metadata": {},
   "outputs": [],
   "source": [
    "tester = Tester()"
   ]
  },
  {
   "cell_type": "code",
   "execution_count": 3,
   "metadata": {
    "scrolled": true
   },
   "outputs": [
    {
     "ename": "TypeError",
     "evalue": "setup() got an unexpected keyword argument 'expansion_factor'",
     "output_type": "error",
     "traceback": [
      "\u001b[1;31m---------------------------------------------------------------------------\u001b[0m",
      "\u001b[1;31mTypeError\u001b[0m                                 Traceback (most recent call last)",
      "\u001b[1;32m<ipython-input-3-22f959e92cc2>\u001b[0m in \u001b[0;36m<module>\u001b[1;34m\u001b[0m\n\u001b[0;32m     11\u001b[0m \u001b[0mparallel_for_dims\u001b[0m \u001b[1;33m=\u001b[0m \u001b[1;32mNone\u001b[0m\u001b[1;33m\u001b[0m\u001b[1;33m\u001b[0m\u001b[0m\n\u001b[0;32m     12\u001b[0m \u001b[1;33m\u001b[0m\u001b[0m\n\u001b[1;32m---> 13\u001b[1;33m \u001b[0mtester\u001b[0m\u001b[1;33m.\u001b[0m\u001b[0msetup\u001b[0m\u001b[1;33m(\u001b[0m\u001b[0mloop_tiling_lst\u001b[0m\u001b[1;33m,\u001b[0m \u001b[0mcosts\u001b[0m\u001b[1;33m,\u001b[0m \u001b[0mwrite_backs\u001b[0m\u001b[1;33m,\u001b[0m \u001b[0mexpansion_factor\u001b[0m\u001b[1;33m=\u001b[0m\u001b[0mexpansion_factor\u001b[0m\u001b[1;33m,\u001b[0m \u001b[0mparallel_for_dims\u001b[0m\u001b[1;33m=\u001b[0m\u001b[0mparallel_for_dims\u001b[0m\u001b[1;33m,\u001b[0m \u001b[0mdebug\u001b[0m\u001b[1;33m=\u001b[0m\u001b[1;32mTrue\u001b[0m\u001b[1;33m)\u001b[0m\u001b[1;33m\u001b[0m\u001b[1;33m\u001b[0m\u001b[0m\n\u001b[0m\u001b[0;32m     14\u001b[0m \u001b[0mtester\u001b[0m\u001b[1;33m.\u001b[0m\u001b[0mtest\u001b[0m\u001b[1;33m(\u001b[0m\u001b[0mfull\u001b[0m\u001b[1;33m=\u001b[0m\u001b[1;32mFalse\u001b[0m\u001b[1;33m)\u001b[0m\u001b[1;33m\u001b[0m\u001b[1;33m\u001b[0m\u001b[0m\n",
      "\u001b[1;31mTypeError\u001b[0m: setup() got an unexpected keyword argument 'expansion_factor'"
     ]
    }
   ],
   "source": [
    "loop_tiling_lst =   [ \n",
    "                        [{\"channel\": 2}, {\"filter\": 2}, {\"weight\": 2}, {\"output\": 2}],\n",
    "                        [{\"channel\": 2}, {\"filter\": 2}, {\"weight\": 2}, {\"output\": 2}]\n",
    "                    ]\n",
    "\n",
    "# which data should write backs be enabled for\n",
    "write_backs = {\"input\", \"weight\", \"output\"}\n",
    "costs = [10, 5]\n",
    "expansion_factor = 0\n",
    "# parallel_for_dims = [\"weight\", \"output\"]\n",
    "parallel_for_dims = None\n",
    "\n",
    "tester.setup(loop_tiling_lst, costs, write_backs, expansion_factor=expansion_factor, parallel_for_dims=parallel_for_dims, debug=True)\n",
    "tester.test(full=False)"
   ]
  },
  {
   "cell_type": "code",
   "execution_count": null,
   "metadata": {
    "scrolled": true
   },
   "outputs": [],
   "source": [
    "loop_tiling_lst =   [ \n",
    "                        [{\"weight\": 2}, {\"filter\": 2}, {\"channel\": 2}, {\"output\": 2}],\n",
    "                        [{\"filter\": 4}, {\"output\": 4}, {\"channel\": 4}, {\"weight\": 4}]\n",
    "                    ]\n",
    "\n",
    "# which data should write backs be enabled for\n",
    "write_backs = {\"input\", \"weight\", \"output\"}\n",
    "costs = [10, 5]\n",
    "expansion_factor = 0\n",
    "# parallel_for_dims = [\"filter\", \"channel\", \"output\"]\n",
    "parallel_for_dims = None\n",
    "\n",
    "tester.setup(loop_tiling_lst, costs, write_backs, expansion_factor=expansion_factor, parallel_for_dims=parallel_for_dims, debug=True)\n",
    "tester.test(full=False)"
   ]
  },
  {
   "cell_type": "code",
   "execution_count": null,
   "metadata": {
    "scrolled": true
   },
   "outputs": [],
   "source": [
    "loop_tiling_lst =   [\n",
    "                        [{\"filter\": 2},  {\"channel\": 2}, {\"weight\": 2},  {\"output\": 2}],\n",
    "                        [{\"filter\": 2},  {\"weight\": 2},  {\"output\": 2}, {\"channel\": 2}],\n",
    "                        [{\"channel\": 2}, {\"filter\": 2},  {\"output\": 2},  {\"weight\": 2}],\n",
    "                    ]\n",
    "\n",
    "# parallel_for_dims = [\"channel\", \"output\"]\n",
    "parallel_for_dims = None\n",
    "\n",
    "# which data should write backs be enabled for\n",
    "write_backs = {\"input\", \"weight\", \"output\"}\n",
    "costs = [10, 7, 3]\n",
    "expansion_factor = 0\n",
    "\n",
    "tester.setup(loop_tiling_lst, costs, write_backs, expansion_factor=expansion_factor, parallel_for_dims=parallel_for_dims, debug=True)\n",
    "tester.test(full=False)"
   ]
  },
  {
   "cell_type": "code",
   "execution_count": null,
   "metadata": {
    "scrolled": true
   },
   "outputs": [],
   "source": [
    "loop_tiling_lst =   [\n",
    "                        [{\"filter\": 2},  {\"channel\": 2}, {\"weight\": 2},  {\"output\": 2}],\n",
    "                        [{\"filter\": 2},  {\"weight\": 2},  {\"output\": 2}, {\"channel\": 2}],\n",
    "                        [{\"weight\": 2}, {\"filter\": 2},  {\"output\": 2},  {\"channel\": 2}],\n",
    "                        [{\"filter\": 2}, {\"output\": 2},  {\"channel\": 2},  {\"weight\": 2}]\n",
    "                    ]\n",
    "\n",
    "# parallel_for_dims = [\"channel\", \"output\"]\n",
    "parallel_for_dims = None\n",
    "\n",
    "# which data should write backs be enabled for\n",
    "write_backs = {\"output\"}\n",
    "costs = [10, 7, 3, 1]\n",
    "expansion_factor = 0\n",
    "\n",
    "tester.setup(loop_tiling_lst, costs, write_backs, expansion_factor=expansion_factor, parallel_for_dims=parallel_for_dims, debug=True)\n",
    "tester.test(full=False)"
   ]
  },
  {
   "cell_type": "code",
   "execution_count": null,
   "metadata": {
    "scrolled": true
   },
   "outputs": [],
   "source": [
    "loop_tiling_lst =   [\n",
    "                        [{\"filter\": 2},  {\"channel\": 2}, {\"output\": 3},  {\"weight\": 3}],\n",
    "                        [{\"filter\": 2},  {\"channel\": 3},  {\"weight\": 2}, {\"output\": 3}]\n",
    "                    ]\n",
    "\n",
    "# parallel_for_dims = [\"channel\", \"output\"]\n",
    "parallel_for_dims = None\n",
    "\n",
    "# which data should write backs be enabled for\n",
    "write_backs = {\"input\", \"output\"}\n",
    "costs = [10, 7]\n",
    "expansion_factor = 0.25\n",
    "\n",
    "tester.setup(loop_tiling_lst, costs, write_backs, expansion_factor=expansion_factor, parallel_for_dims=parallel_for_dims, debug=True)\n",
    "tester.test(full=False)"
   ]
  },
  {
   "cell_type": "code",
   "execution_count": null,
   "metadata": {
    "scrolled": true
   },
   "outputs": [],
   "source": [
    "loop_tiling_lst =   [\n",
    "                        [{\"filter\": 2},  {\"channel\": 3}, {\"output\": 2},  {\"weight\": 3}],\n",
    "                        [{\"filter\": 2},  {\"channel\": 3},  {\"weight\": 2}, {\"output\": 2}],\n",
    "                        [{\"filter\": 2},  {\"channel\": 3},  {\"output\": 3}, {\"weight\": 2}]\n",
    "                    ]\n",
    "\n",
    "# parallel_for_dims = [\"channel\", \"output\"]\n",
    "parallel_for_dims = None\n",
    "\n",
    "# which data should write backs be enabled for\n",
    "write_backs = {\"input\", \"output\"}\n",
    "costs = [10, 7, 3]\n",
    "expansion_factor = 0.5\n",
    "\n",
    "tester.setup(loop_tiling_lst, costs, write_backs, expansion_factor=expansion_factor, parallel_for_dims=parallel_for_dims, debug=True)\n",
    "tester.test(full=False)"
   ]
  },
  {
   "cell_type": "code",
   "execution_count": null,
   "metadata": {
    "scrolled": true
   },
   "outputs": [],
   "source": [
    "loop_tiling_lst =   [\n",
    "                        [{\"filter\": 3},  {\"channel\": 2}, {\"weight\": 3},  {\"output\": 2}],\n",
    "                        [{\"filter\": 2},  {\"weight\": 4},  {\"channel\": 3}, {\"output\": 4}],\n",
    "                        [{\"channel\": 3}, {\"filter\": 4},  {\"output\": 2},  {\"weight\": 4}],\n",
    "                    ]\n",
    "\n",
    "# parallel_for_dims = [\"channel\", \"output\"]\n",
    "parallel_for_dims = None\n",
    "\n",
    "# which data should write backs be enabled for\n",
    "write_backs = {\"weight\", \"output\"}\n",
    "costs = [10, 7, 3]\n",
    "expansion_factor = 0\n",
    "\n",
    "tester.setup(loop_tiling_lst, costs, write_backs, expansion_factor=expansion_factor, parallel_for_dims=parallel_for_dims, debug=True)\n",
    "tester.test(full=False)"
   ]
  },
  {
   "cell_type": "code",
   "execution_count": null,
   "metadata": {
    "scrolled": true
   },
   "outputs": [],
   "source": [
    "loop_tiling_lst =   [\n",
    "                        [{\"filter\": 3},  {\"channel\": 2}, {\"weight\": 3},  {\"output\": 2}],\n",
    "                        [{\"filter\": 2},  {\"weight\": 4},  {\"channel\": 3}, {\"output\": 4}],\n",
    "                        [{\"channel\": 3}, {\"filter\": 4},  {\"output\": 2},  {\"weight\": 4}],\n",
    "                    ]\n",
    "\n",
    "# parallel_for_dims = [\"channel\", \"output\"]\n",
    "parallel_for_dims = None\n",
    "\n",
    "# which data should write backs be enabled for\n",
    "write_backs = {\"weight\", \"output\"}\n",
    "costs = [10, 7, 3]\n",
    "expansion_factor = 1\n",
    "\n",
    "tester.setup(loop_tiling_lst, costs, write_backs, expansion_factor=expansion_factor, parallel_for_dims=parallel_for_dims, debug=True)\n",
    "tester.test(full=False)"
   ]
  }
 ],
 "metadata": {
  "kernelspec": {
   "display_name": "Python 3",
   "language": "python",
   "name": "python3"
  },
  "language_info": {
   "codemirror_mode": {
    "name": "ipython",
    "version": 3
   },
   "file_extension": ".py",
   "mimetype": "text/x-python",
   "name": "python",
   "nbconvert_exporter": "python",
   "pygments_lexer": "ipython3",
   "version": "3.7.6"
  }
 },
 "nbformat": 4,
 "nbformat_minor": 4
}
